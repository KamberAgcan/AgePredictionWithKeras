{
 "cells": [
  {
   "cell_type": "markdown",
   "metadata": {},
   "source": [
    "* Import Libraries"
   ]
  },
  {
   "cell_type": "code",
   "execution_count": 1,
   "metadata": {},
   "outputs": [],
   "source": [
    "# import libraries\n",
    "import pandas as pd\n",
    "import numpy as np\n",
    "import matplotlib.pyplot as plt\n",
    "import seaborn as sns\n",
    "import os\n",
    "import matplotlib.image as mpimg\n",
    "import cv2\n",
    "import sklearn\n",
    "import random"
   ]
  },
  {
   "cell_type": "markdown",
   "metadata": {},
   "source": [
    "* Setting Data Set"
   ]
  },
  {
   "cell_type": "code",
   "execution_count": 2,
   "metadata": {},
   "outputs": [],
   "source": [
    "imgPath = [] # This is an empyt list for images's paths"
   ]
  },
  {
   "cell_type": "code",
   "execution_count": 3,
   "metadata": {},
   "outputs": [
    {
     "name": "stdout",
     "output_type": "stream",
     "text": [
      "(33432,) <class 'numpy.ndarray'>\n"
     ]
    }
   ],
   "source": [
    "path = \"/home/kamber/Desktop/KamberAgcan/Python/Age Prediction/AgePredictionDataset/train\"\n",
    "for dirname, _, filenames in os.walk(path):\n",
    "    for filename in filenames:\n",
    "        imgPath.append(os.path.join(dirname, filename)) # The paths read from the file are thrown into the created empty list.\n",
    "imgPath = np.asarray(imgPath)  # Converted to list array format containing paths.\n",
    "print(imgPath.shape,type(imgPath))"
   ]
  },
  {
   "cell_type": "code",
   "execution_count": 4,
   "metadata": {},
   "outputs": [
    {
     "name": "stdout",
     "output_type": "stream",
     "text": [
      "imgShape:  33432 <class 'int'>\n"
     ]
    }
   ],
   "source": [
    "imgShape = imgPath.shape[0] # The shape of the imgPath array is assigned to a variable named imgShape in order to use it in loops.\n",
    "print(\"imgShape: \",imgShape,type(imgShape))"
   ]
  },
  {
   "cell_type": "code",
   "execution_count": 5,
   "metadata": {},
   "outputs": [],
   "source": [
    "random.shuffle(imgPath)    # Since the size of the images in the data set is large, 5000 images were randomly selected, \n",
    "                           # and training will be made with these selected images."
   ]
  },
  {
   "cell_type": "code",
   "execution_count": 6,
   "metadata": {},
   "outputs": [],
   "source": [
    "def loopsAndframe(imgShape,imgPath):\n",
    "    \n",
    "    # Empyt lists\n",
    "    whatkindofimage = []                     \n",
    "    imgName = []     \n",
    "    Age =[]\n",
    "\n",
    "    # For loop\n",
    "    for i in range(0,imgShape):\n",
    "        a = path.split(\"/\")[8]       # We dynamically determine whether the test image or the train image.\n",
    "        whatkindofimage.append(a)\n",
    "\n",
    "        b = imgPath[i].split(\"/\")[10]  # The names of the images were determined from the path using the split method.\n",
    "        imgName.append(b) \n",
    "\n",
    "        c = imgPath[i].split(\"/\")[9] # The ages of the images were determined.\n",
    "        Age.append(c)\n",
    "    \n",
    "    # Create data frame\n",
    "    c1 = pd.Series(whatkindofimage)\n",
    "    c2 = pd.Series(imgName)\n",
    "    c3 = pd.Series(Age)\n",
    "    c4 = pd.Series(imgPath)\n",
    "\n",
    "    data_ = dict(whatkindofimage = c1,imgName = c2,Age = c3, imgPath = c4) # The created columns are added to the dataframe.\n",
    "    df = pd.DataFrame(data_)\n",
    "    return df"
   ]
  },
  {
   "cell_type": "code",
   "execution_count": 7,
   "metadata": {},
   "outputs": [
    {
     "data": {
      "text/html": [
       "<div>\n",
       "<style scoped>\n",
       "    .dataframe tbody tr th:only-of-type {\n",
       "        vertical-align: middle;\n",
       "    }\n",
       "\n",
       "    .dataframe tbody tr th {\n",
       "        vertical-align: top;\n",
       "    }\n",
       "\n",
       "    .dataframe thead th {\n",
       "        text-align: right;\n",
       "    }\n",
       "</style>\n",
       "<table border=\"1\" class=\"dataframe\">\n",
       "  <thead>\n",
       "    <tr style=\"text-align: right;\">\n",
       "      <th></th>\n",
       "      <th>whatkindofimage</th>\n",
       "      <th>imgName</th>\n",
       "      <th>Age</th>\n",
       "      <th>imgPath</th>\n",
       "    </tr>\n",
       "  </thead>\n",
       "  <tbody>\n",
       "    <tr>\n",
       "      <th>0</th>\n",
       "      <td>train</td>\n",
       "      <td>152419.jpg</td>\n",
       "      <td>45</td>\n",
       "      <td>/home/kamber/Desktop/KamberAgcan/Python/Age Pr...</td>\n",
       "    </tr>\n",
       "    <tr>\n",
       "      <th>1</th>\n",
       "      <td>train</td>\n",
       "      <td>154129.jpg</td>\n",
       "      <td>22</td>\n",
       "      <td>/home/kamber/Desktop/KamberAgcan/Python/Age Pr...</td>\n",
       "    </tr>\n",
       "    <tr>\n",
       "      <th>2</th>\n",
       "      <td>train</td>\n",
       "      <td>137425.jpg</td>\n",
       "      <td>47</td>\n",
       "      <td>/home/kamber/Desktop/KamberAgcan/Python/Age Pr...</td>\n",
       "    </tr>\n",
       "    <tr>\n",
       "      <th>3</th>\n",
       "      <td>train</td>\n",
       "      <td>176824.jpg</td>\n",
       "      <td>34</td>\n",
       "      <td>/home/kamber/Desktop/KamberAgcan/Python/Age Pr...</td>\n",
       "    </tr>\n",
       "    <tr>\n",
       "      <th>4</th>\n",
       "      <td>train</td>\n",
       "      <td>140261.jpg</td>\n",
       "      <td>42</td>\n",
       "      <td>/home/kamber/Desktop/KamberAgcan/Python/Age Pr...</td>\n",
       "    </tr>\n",
       "  </tbody>\n",
       "</table>\n",
       "</div>"
      ],
      "text/plain": [
       "  whatkindofimage     imgName Age  \\\n",
       "0           train  152419.jpg  45   \n",
       "1           train  154129.jpg  22   \n",
       "2           train  137425.jpg  47   \n",
       "3           train  176824.jpg  34   \n",
       "4           train  140261.jpg  42   \n",
       "\n",
       "                                             imgPath  \n",
       "0  /home/kamber/Desktop/KamberAgcan/Python/Age Pr...  \n",
       "1  /home/kamber/Desktop/KamberAgcan/Python/Age Pr...  \n",
       "2  /home/kamber/Desktop/KamberAgcan/Python/Age Pr...  \n",
       "3  /home/kamber/Desktop/KamberAgcan/Python/Age Pr...  \n",
       "4  /home/kamber/Desktop/KamberAgcan/Python/Age Pr...  "
      ]
     },
     "execution_count": 7,
     "metadata": {},
     "output_type": "execute_result"
    }
   ],
   "source": [
    "loopsAndframe(imgShape,imgPath).head()"
   ]
  },
  {
   "cell_type": "markdown",
   "metadata": {},
   "source": [
    "* Imread and Imshow methods for images"
   ]
  },
  {
   "cell_type": "code",
   "execution_count": 8,
   "metadata": {},
   "outputs": [],
   "source": [
    "def imreading(images_index):    #  To read the images with the imread method, a method has been developed to get the index of the path in the name of imread,\n",
    "    x = imgPath[images_index]   #  and read the photo in the desired index in array format.\n",
    "    y = plt.imread(x)\n",
    "    return y"
   ]
  },
  {
   "cell_type": "code",
   "execution_count": 9,
   "metadata": {},
   "outputs": [
    {
     "data": {
      "text/plain": [
       "array([[[186, 186, 186],\n",
       "        [198, 198, 198],\n",
       "        [210, 210, 210],\n",
       "        ...,\n",
       "        [214, 214, 214],\n",
       "        [215, 215, 215],\n",
       "        [216, 216, 216]],\n",
       "\n",
       "       [[187, 187, 187],\n",
       "        [197, 197, 197],\n",
       "        [209, 209, 209],\n",
       "        ...,\n",
       "        [211, 211, 211],\n",
       "        [212, 212, 212],\n",
       "        [213, 213, 213]],\n",
       "\n",
       "       [[188, 188, 188],\n",
       "        [197, 197, 197],\n",
       "        [206, 206, 206],\n",
       "        ...,\n",
       "        [209, 209, 209],\n",
       "        [210, 210, 210],\n",
       "        [211, 211, 211]],\n",
       "\n",
       "       ...,\n",
       "\n",
       "       [[218, 218, 218],\n",
       "        [214, 214, 214],\n",
       "        [205, 205, 205],\n",
       "        ...,\n",
       "        [123, 123, 123],\n",
       "        [ 43,  43,  43],\n",
       "        [ 28,  28,  28]],\n",
       "\n",
       "       [[218, 218, 218],\n",
       "        [213, 213, 213],\n",
       "        [204, 204, 204],\n",
       "        ...,\n",
       "        [124, 124, 124],\n",
       "        [ 45,  45,  45],\n",
       "        [ 28,  28,  28]],\n",
       "\n",
       "       [[219, 219, 219],\n",
       "        [213, 213, 213],\n",
       "        [203, 203, 203],\n",
       "        ...,\n",
       "        [125, 125, 125],\n",
       "        [ 46,  46,  46],\n",
       "        [ 27,  27,  27]]], dtype=uint8)"
      ]
     },
     "execution_count": 9,
     "metadata": {},
     "output_type": "execute_result"
    }
   ],
   "source": [
    "imreading(0)"
   ]
  },
  {
   "cell_type": "code",
   "execution_count": 10,
   "metadata": {},
   "outputs": [
    {
     "data": {
      "text/plain": [
       "'train'"
      ]
     },
     "execution_count": 10,
     "metadata": {},
     "output_type": "execute_result"
    }
   ],
   "source": [
    "loopsAndframe(imgShape,imgPath).whatkindofimage[0]"
   ]
  },
  {
   "cell_type": "code",
   "execution_count": 11,
   "metadata": {},
   "outputs": [],
   "source": [
    "def imshowing(index):                # Developed a method called imshowing to read images.\n",
    "    x = imgPath[index]               # With determined index, the photo in the desired order in the path can be visualized.\n",
    "    y = (\"Age =\",loopsAndframe(imgShape,imgPath).Age[index]) # the age in the photograph was written to x axis.\n",
    "    z = (loopsAndframe(imgShape,imgPath).whatkindofimage[0],loopsAndframe(imgShape,imgPath).imgName[index])               \n",
    "    k = mpimg.imread(x) \n",
    "    plt.imshow(k)  \n",
    "    plt.title(z)                     # The name of the visualized photo is printed in the title section.\n",
    "    #plt.axis(\"off\")\n",
    "    plt.xlabel(y)\n",
    "    plt.show()"
   ]
  },
  {
   "cell_type": "code",
   "execution_count": 12,
   "metadata": {},
   "outputs": [
    {
     "data": {
      "image/png": "[encoded data removed]",
      "text/plain": [
       "<Figure size 432x288 with 1 Axes>"
      ]
     },
     "metadata": {
      "needs_background": "light"
     },
     "output_type": "display_data"
    }
   ],
   "source": [
    "imshowing(0)"
   ]
  },
  {
   "cell_type": "code",
   "execution_count": 13,
   "metadata": {},
   "outputs": [
    {
     "name": "stdout",
     "output_type": "stream",
     "text": [
      "model_img <class 'numpy.ndarray'>\n",
      "model_age <class 'int'>\n"
     ]
    }
   ],
   "source": [
    "# empty list for outputs\n",
    "model_img1 = []\n",
    "model_img = []\n",
    "model_age = []\n",
    "\n",
    "for i in range(0,3000):                       # The interval should be determined with how many images will be trained.                      \n",
    "    a = imgPath[i]                           \n",
    "    model_img1.append(a)                    # Creating images and labels with loop\n",
    "    b = cv2.imread(model_img1[i])\n",
    "    model_img.append(b)\n",
    "    \n",
    "    c = (loopsAndframe(imgShape,imgPath)[\"Age\"][i])\n",
    "    d = cv2.imread(model_img1[i])\n",
    "    model_age.append(int(c))\n",
    "    \n",
    "print(\"model_img\",type(model_img[0]))\n",
    "print(\"model_age\",type(model_age[0]))"
   ]
  },
  {
   "cell_type": "code",
   "execution_count": 14,
   "metadata": {},
   "outputs": [],
   "source": [
    "# model_age = []\n",
    "# for i in range(0,300):\n",
    "#     c = (loopsAndframe(imgShape,imgPath)[\"Age\"][i])\n",
    "#     #d = cv2.imread(model_img1[i])\n",
    "#     model_age.append(int(c))\n",
    "# print(\"model_age\",type(model_age[0]))"
   ]
  },
  {
   "cell_type": "code",
   "execution_count": 15,
   "metadata": {},
   "outputs": [
    {
     "data": {
      "text/plain": [
       "45"
      ]
     },
     "execution_count": 15,
     "metadata": {},
     "output_type": "execute_result"
    }
   ],
   "source": [
    "model_age[0]"
   ]
  },
  {
   "cell_type": "code",
   "execution_count": 16,
   "metadata": {},
   "outputs": [
    {
     "name": "stdout",
     "output_type": "stream",
     "text": [
      "(3000, 128, 128, 3)\n"
     ]
    }
   ],
   "source": [
    "model_img = np.asarray(model_img)\n",
    "print(model_img.shape)"
   ]
  },
  {
   "cell_type": "code",
   "execution_count": 17,
   "metadata": {},
   "outputs": [
    {
     "name": "stdout",
     "output_type": "stream",
     "text": [
      "(3000, 128, 128, 3) <class 'numpy.ndarray'>\n"
     ]
    }
   ],
   "source": [
    "X = np.asarray(model_img)\n",
    "print(X.shape,type(X))"
   ]
  },
  {
   "cell_type": "code",
   "execution_count": 18,
   "metadata": {},
   "outputs": [
    {
     "name": "stdout",
     "output_type": "stream",
     "text": [
      "(3000, 128, 128, 3) <class 'numpy.ndarray'>\n"
     ]
    }
   ],
   "source": [
    "X = X.reshape(-1,128,128,3).astype(\"float\") # setting images entries for model\n",
    "print(X.shape,type(X))"
   ]
  },
  {
   "cell_type": "code",
   "execution_count": 19,
   "metadata": {},
   "outputs": [
    {
     "name": "stderr",
     "output_type": "stream",
     "text": [
      "/home/kamber/anaconda3/envs/myenv/lib/python3.7/site-packages/seaborn/_decorators.py:43: FutureWarning: Pass the following variable as a keyword arg: x. From version 0.12, the only valid positional argument will be `data`, and passing other arguments without an explicit keyword will result in an error or misinterpretation.\n",
      "  FutureWarning\n"
     ]
    },
    {
     "data": {
      "image/png": "[encoded data removed]",
      "text/plain": [
       "<Figure size 1080x504 with 1 Axes>"
      ]
     },
     "metadata": {
      "needs_background": "light"
     },
     "output_type": "display_data"
    }
   ],
   "source": [
    "# visualize number of digits classes\n",
    "plt.figure(figsize=(15,7))\n",
    "sns.countplot(model_age, palette=\"icefire\")\n",
    "plt.title(\"Number of digit classes\")\n",
    "plt.show()"
   ]
  },
  {
   "cell_type": "code",
   "execution_count": 20,
   "metadata": {},
   "outputs": [
    {
     "name": "stdout",
     "output_type": "stream",
     "text": [
      "(3000, 1) <class 'numpy.ndarray'>\n"
     ]
    }
   ],
   "source": [
    "Y = np.asarray(model_age).reshape(-1,1) #setting label entries for model\n",
    "print(Y.shape,type(Y))"
   ]
  },
  {
   "cell_type": "code",
   "execution_count": 21,
   "metadata": {},
   "outputs": [
    {
     "name": "stdout",
     "output_type": "stream",
     "text": [
      "(3000, 128, 128, 3) <class 'numpy.ndarray'>\n",
      "(3000, 1) <class 'numpy.ndarray'>\n"
     ]
    }
   ],
   "source": [
    "# normalization\n",
    "X = X/255.0\n",
    "Y = Y/255.0\n",
    "print(X.shape,type(X))\n",
    "print(Y.shape,type(Y))"
   ]
  },
  {
   "cell_type": "code",
   "execution_count": 22,
   "metadata": {},
   "outputs": [
    {
     "data": {
      "image/png": "[encoded data removed]",
      "text/plain": [
       "<Figure size 432x288 with 1 Axes>"
      ]
     },
     "metadata": {
      "needs_background": "light"
     },
     "output_type": "display_data"
    }
   ],
   "source": [
    "plt.imshow(X[0])           #view of the same image after normalization\n",
    "plt.show()"
   ]
  },
  {
   "cell_type": "code",
   "execution_count": 23,
   "metadata": {},
   "outputs": [
    {
     "name": "stdout",
     "output_type": "stream",
     "text": [
      "(3000, 51)\n"
     ]
    }
   ],
   "source": [
    "from keras.utils.np_utils import to_categorical # convert to one-hot-encoding\n",
    "Y = to_categorical(Y, num_classes = 51)\n",
    "print(Y.shape)"
   ]
  },
  {
   "cell_type": "code",
   "execution_count": 24,
   "metadata": {},
   "outputs": [
    {
     "name": "stdout",
     "output_type": "stream",
     "text": [
      "X_train.shape (2700, 128, 128, 3) <class 'numpy.ndarray'>\n",
      "X_val.shape (300, 128, 128, 3) <class 'numpy.ndarray'>\n",
      "Y_train.shape (2700, 51) <class 'numpy.ndarray'>\n",
      "Y_val.shape (300, 51) <class 'numpy.ndarray'>\n"
     ]
    }
   ],
   "source": [
    "from sklearn.model_selection import train_test_split\n",
    "X_train,X_val,Y_train,Y_val = train_test_split(X,Y, test_size = 0.10,random_state = 42)\n",
    "print(\"X_train.shape\",X_train.shape,type(X_train))\n",
    "print(\"X_val.shape\",X_val.shape,type(X_val))\n",
    "print(\"Y_train.shape\",Y_train.shape,type(Y_train))\n",
    "print(\"Y_val.shape\",Y_val.shape,type(Y_val))"
   ]
  },
  {
   "cell_type": "code",
   "execution_count": 25,
   "metadata": {},
   "outputs": [],
   "source": [
    "from sklearn.metrics import confusion_matrix\n",
    "import itertools\n",
    "from keras.models import Sequential,load_model,Model\n",
    "from keras.layers import Dense,Dropout,Flatten,Conv2D,MaxPool2D,ZeroPadding2D,Activation\n",
    "from keras.optimizers import RMSprop,Adam\n",
    "from keras.preprocessing.image import ImageDataGenerator\n",
    "from keras.callbacks import ReduceLROnPlateau\n",
    "from keras.layers import Conv2D,MaxPool2D,Dense,Dropout,BatchNormalization,Flatten,Input"
   ]
  },
  {
   "cell_type": "code",
   "execution_count": 26,
   "metadata": {},
   "outputs": [],
   "source": [
    "model = Sequential()\n",
    "\n",
    "model.add(Conv2D(filters = 8, kernel_size = (5,5), padding = \"Same\", activation = \"relu\", input_shape = (128,128,3)))\n",
    "model.add(Conv2D(140,(3,3),activation=\"relu\"))\n",
    "model.add(Conv2D(130,(3,3),activation=\"relu\"))\n",
    "model.add(BatchNormalization())\n",
    "model.add(MaxPool2D(2,2))\n",
    "model.add(Conv2D(120,(3,3),activation=\"relu\"))\n",
    "model.add(BatchNormalization())\n",
    "model.add(MaxPool2D((2,2)))\n",
    "\n",
    "model.add(Flatten())\n",
    "model.add(Dropout(0.25))\n",
    "model.add(Dense(51))\n",
    "model.add(Activation(\"softmax\"))"
   ]
  },
  {
   "cell_type": "code",
   "execution_count": 27,
   "metadata": {},
   "outputs": [
    {
     "name": "stderr",
     "output_type": "stream",
     "text": [
      "/home/kamber/anaconda3/envs/myenv/lib/python3.7/site-packages/tensorflow/python/keras/optimizer_v2/optimizer_v2.py:375: UserWarning: The `lr` argument is deprecated, use `learning_rate` instead.\n",
      "  \"The `lr` argument is deprecated, use `learning_rate` instead.\")\n"
     ]
    }
   ],
   "source": [
    "optimizer = Adam(lr = 0.001,beta_1 = 0.9, beta_2 = 0.999)\n",
    "          # \"rmsprop\""
   ]
  },
  {
   "cell_type": "code",
   "execution_count": 28,
   "metadata": {},
   "outputs": [],
   "source": [
    "# Compile the Model\n",
    "model.compile(optimizer = optimizer, loss = \"categorical_crossentropy\", metrics = [\"accuracy\"])\n",
    "                                   # loss = \"categorical_crossentropy\" - \"binary_crossentropy\"  - \"sparse_categorical_crossentropy\"\n",
    "\n",
    "# Epochs and Batch Size\n",
    "epochs = 10 # for better result increase the epochs\n",
    "batch_size = 100\n",
    "    \n",
    "# data augmentation\n",
    "datagen = ImageDataGenerator(\n",
    "        featurewise_center=False,  # set input mean to 0 over the dataset\n",
    "        samplewise_center=False,  # set each sample mean to 0\n",
    "        featurewise_std_normalization=False,  # divide inputs by std of the dataset\n",
    "        samplewise_std_normalization=False,  # divide each input by its std\n",
    "        zca_whitening=False,  # dimesion reduction\n",
    "        rotation_range=0.5,  # randomly rotate images in the range 5 degrees\n",
    "        zoom_range = 0.5, # Randomly zoom image 5%\n",
    "        width_shift_range=0.5,  # randomly shift images horizontally 5%\n",
    "        height_shift_range=0.5,  # randomly shift images vertically 5%\n",
    "        horizontal_flip=False,  # randomly flip images\n",
    "        vertical_flip=False)  # randomly flip images\n",
    "\n",
    "datagen.fit(X_train)"
   ]
  },
  {
   "cell_type": "code",
   "execution_count": 29,
   "metadata": {},
   "outputs": [
    {
     "name": "stdout",
     "output_type": "stream",
     "text": [
      "Epoch 1/10\n",
      "27/27 [==============================] - 1981s 73s/step - loss: 2.6089 - accuracy: 0.7676 - val_loss: 14.5598 - val_accuracy: 0.0000e+00\n",
      "Epoch 2/10\n",
      "27/27 [==============================] - 1840s 69s/step - loss: 0.1151 - accuracy: 0.9954 - val_loss: 45.3696 - val_accuracy: 0.0000e+00\n",
      "Epoch 3/10\n",
      "27/27 [==============================] - 1818s 68s/step - loss: 0.0385 - accuracy: 0.9989 - val_loss: 73.4163 - val_accuracy: 0.0000e+00\n",
      "Epoch 4/10\n",
      "27/27 [==============================] - 1817s 67s/step - loss: 0.0051 - accuracy: 0.9991 - val_loss: 119.8785 - val_accuracy: 0.0000e+00\n",
      "Epoch 5/10\n",
      "27/27 [==============================] - 1799s 67s/step - loss: 0.0025 - accuracy: 0.9986 - val_loss: 134.9319 - val_accuracy: 0.0000e+00\n",
      "Epoch 6/10\n",
      "27/27 [==============================] - 1785s 66s/step - loss: 0.0095 - accuracy: 0.9993 - val_loss: 155.9855 - val_accuracy: 0.0000e+00\n",
      "Epoch 7/10\n",
      "27/27 [==============================] - 1785s 66s/step - loss: 0.0188 - accuracy: 0.9987 - val_loss: 186.1011 - val_accuracy: 0.0000e+00\n",
      "Epoch 8/10\n",
      "27/27 [==============================] - 1791s 66s/step - loss: 5.2434e-05 - accuracy: 1.0000 - val_loss: 209.3971 - val_accuracy: 0.0000e+00\n",
      "Epoch 9/10\n",
      "27/27 [==============================] - 1762s 65s/step - loss: 0.0000e+00 - accuracy: 1.0000 - val_loss: 217.9439 - val_accuracy: 0.0000e+00\n",
      "Epoch 10/10\n",
      "27/27 [==============================] - 1787s 66s/step - loss: 0.0054 - accuracy: 0.9996 - val_loss: 233.0258 - val_accuracy: 0.0000e+00\n"
     ]
    }
   ],
   "source": [
    "# fit the model\n",
    "history = model.fit(datagen.flow(X_train,Y_train,batch_size = batch_size), epochs = epochs, \n",
    "                              validation_data = (X_val,Y_val), steps_per_epoch = X_train.shape[0]// batch_size)"
   ]
  },
  {
   "cell_type": "code",
   "execution_count": 30,
   "metadata": {},
   "outputs": [
    {
     "data": {
      "image/png": "[encoded data removed]",
      "text/plain": [
       "<Figure size 432x288 with 1 Axes>"
      ]
     },
     "metadata": {
      "needs_background": "light"
     },
     "output_type": "display_data"
    }
   ],
   "source": [
    "# Plot the loss and accuracy curves for training and validation \n",
    "plt.plot(history.history['val_loss'], color='b', label=\"Validation Loss\")\n",
    "plt.title(\"Test Loss\")\n",
    "plt.xlabel(\"Number of Epochs\")\n",
    "plt.ylabel(\"Loss\")\n",
    "plt.legend()\n",
    "plt.show()"
   ]
  },
  {
   "cell_type": "code",
   "execution_count": 31,
   "metadata": {},
   "outputs": [
    {
     "data": {
      "image/png": "[encoded data removed]",
      "text/plain": [
       "<Figure size 432x288 with 1 Axes>"
      ]
     },
     "metadata": {
      "needs_background": "light"
     },
     "output_type": "display_data"
    }
   ],
   "source": [
    "# Plot the loss and accuracy curves for training and validation \n",
    "plt.plot(history.history['accuracy'], color='r', label=\"Accuracy\")\n",
    "#plt.plot(history.history[\"val_accuracy,\"],color = \"r\",label = \"val_accuracy\")\n",
    "plt.title(\"Accuracy\")\n",
    "plt.xlabel(\"Number of Epochs\")\n",
    "plt.ylabel(\"Accuracy\")\n",
    "plt.legend()\n",
    "plt.show()"
   ]
  },
  {
   "cell_type": "code",
   "execution_count": 1,
   "metadata": {
    "collapsed": true,
    "jupyter": {
     "outputs_hidden": true
    },
    "tags": []
   },
   "outputs": [
    {
     "ename": "NameError",
     "evalue": "name 'model' is not defined",
     "output_type": "error",
     "traceback": [
      "\u001b[0;31m---------------------------------------------------------------------------\u001b[0m",
      "\u001b[0;31mNameError\u001b[0m                                 Traceback (most recent call last)",
      "\u001b[0;32m<ipython-input-1-92a281b525db>\u001b[0m in \u001b[0;36m<module>\u001b[0;34m\u001b[0m\n\u001b[0;32m----> 1\u001b[0;31m \u001b[0mmodel\u001b[0m\u001b[0;34m.\u001b[0m\u001b[0msave\u001b[0m\u001b[0;34m(\u001b[0m\u001b[0;34m\"Age_load_model.h5\"\u001b[0m\u001b[0;34m)\u001b[0m\u001b[0;34m\u001b[0m\u001b[0m\n\u001b[0m",
      "\u001b[0;31mNameError\u001b[0m: name 'model' is not defined"
     ]
    }
   ],
   "source": [
    "model.save(\"Age_load_model.h5\")"
   ]
  },
  {
   "cell_type": "code",
   "execution_count": null,
   "metadata": {},
   "outputs": [],
   "source": []
  }
 ],
 "metadata": {
  "kernelspec": {
   "display_name": "Python 3",
   "language": "python",
   "name": "python3"
  },
  "language_info": {
   "codemirror_mode": {
    "name": "ipython",
    "version": 3
   },
   "file_extension": ".py",
   "mimetype": "text/x-python",
   "name": "python",
   "nbconvert_exporter": "python",
   "pygments_lexer": "ipython3",
   "version": "3.7.0"
  }
 },
 "nbformat": 4,
 "nbformat_minor": 4
}
